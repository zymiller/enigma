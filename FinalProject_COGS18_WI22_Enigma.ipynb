{
 "cells": [
  {
   "cell_type": "markdown",
   "metadata": {},
   "source": [
    "# Enigma Machine in Python\n"
   ]
  },
  {
   "cell_type": "markdown",
   "metadata": {},
   "source": [
    "For this project I decided to recreate the Enigma encryption machine used by the Axis powers in WW2. For this I created specific classes for the different mechanisms in the machine and have a large method in my last Machine class that does all the encoding and decoding. I would reccommend watching this [video](https://www.youtube.com/watch?v=ybkkiGtJmkM) to get a basic understanding of how all the components on the real machine worked and interacted with eachother. \n",
    "\n",
    "At it's most basic this code is really just an encryption software that can take 4 caesar ciphers in and scrambles them semi-decently (like the machine did).\n"
   ]
  },
  {
   "cell_type": "markdown",
   "metadata": {},
   "source": [
    "## Machine setup"
   ]
  },
  {
   "cell_type": "markdown",
   "metadata": {},
   "source": [
    "#### Making the rotors\n",
    "\n",
    "The cell below will create 5 real rotors used in the Engima M-3 machine. The machine only used 3 but 5 were always available to create a bigger diversity of possible messages. The rotor codes were taken from the [cryptomuseum](https://www.cryptomuseum.com/crypto/enigma/m3/index.htm) (Wheel wiring near the bottom of the page). I only used I - V because the other rotors were used for the Kriegsmarine which is a whole different rabbit hole with different machines and rotor designs and whatnot.\n",
    "\n",
    "Also, I moved the turnover letters 1 letter forward because when the rotors are on the positions listed on the website, the next rotor does not move. It's basically only their priming position. It's only when the rotor moves to the next letter (i.e. the letter 1 ahead of the letter on the website) does the next rotor finally move."
   ]
  },
  {
   "cell_type": "code",
   "execution_count": 1,
   "metadata": {},
   "outputs": [],
   "source": [
    "from my_module.classes import Rotor\n",
    "\n",
    "rotorI = Rotor('I', code = 'EKMFLGDQVZNTOWYHXUSPAIBRCJ', turnover = 'R')\n",
    "rotorII = Rotor('II', code = 'AJDKSIRUXBLHWTMCQGZNPYFVOE', turnover = 'F')\n",
    "rotorIII = Rotor('III', code = 'BDFHJLCPRTXVZNYEIWGAKMUSQO', turnover = 'W')\n",
    "rotorIV = Rotor('IV', code = 'ESOVPZJAYQUIRHXLNFTGKDCMWB', turnover = 'K')\n",
    "rotorV = Rotor('V', code = 'VZBRGITYUPSDNHLXAWMJQOFECK', turnover = 'A')"
   ]
  },
  {
   "cell_type": "markdown",
   "metadata": {},
   "source": [
    "#### Making the reflectors and plugboards\n",
    "\n",
    "First, before encoding, a piece of the machine called the reflector needs to be made. The reflector's job is to take whatever input it receives from the last rotor and turn it into another letter and send it back through the last rotor to then be scrambled again through the rotors, but in the reverse order. \n",
    "\n",
    "Plugboards are also being created here as well. Plugboards were on the front of the machine and basically subsituted letters. So if you had an HZ connection, that would mean that before and after every scrambling through the machine, every H would be replaced with a Z and vice versa. In the war the standard number of plugs used in the plugboard was 10 plugs (20 letters). I've recreated the first top 10 plugboard settings from this [code sheet](https://www.nsa.gov/Portals/75/documents/news-features/declassified-documents/friedman-documents/patent-equipment/FOLDER_498/41784329082337.pdf)"
   ]
  },
  {
   "cell_type": "code",
   "execution_count": 2,
   "metadata": {},
   "outputs": [],
   "source": [
    "from my_module.classes import Reflector\n",
    "\n",
    "ukwb = Reflector('UKW-B', code = 'YRUHQSLDPXNGOKMIEBFZCWVJAT')\n",
    "ukwc = Reflector('UKW-C', code = 'FVPJIAOYEDRZXWGCTKUQSBNMHL')\n",
    "\n",
    "plugboard1 = ('CM', 'KO', 'GZ', 'FS', 'BD', 'AE', 'VX', 'LI', 'RJ', 'UN')\n",
    "plugboard2 = ('UL', 'IA', 'MZ', 'XH', 'GF', 'BC', 'SY', 'RJ', 'QT', 'ED')\n",
    "plugboard3 = ('TH', 'NM', 'CW', 'FZ', 'DO', 'LE', 'PY', 'IG', 'KU', 'SR')\n",
    "plugboard4 = ('MU', 'WO', 'RS', 'IQ', 'XB', 'FD', 'ZJ', 'VY', 'CK', 'EG')\n",
    "plugboard5 = ('RC', 'SW', 'ZQ', 'DJ', 'KA', 'UV', 'EP', 'YF', 'MH', 'BX')\n",
    "plugboard6 = ('LM', 'DE', 'SA', 'PB', 'JQ', 'NF', 'ZI', 'KT', 'CX', 'OV')\n",
    "plugboard7 = ('DX', 'GS', 'CO', 'TL', 'VW', 'HQ', 'RK', 'MA', 'BY', 'UF')\n",
    "plugboard8 = ('PG', 'FW', 'VE', 'CI', 'UN', 'LA', 'QD', 'TM', 'YO', 'JK')\n",
    "plugboard9 = ('FW', 'MX', 'AQ', 'LJ', 'HN', 'OE', 'ZS', 'YT', 'KD', 'CB')\n",
    "plugboard0 = ('TS', 'KP', 'GR', 'DU', 'AL', 'WI', 'NJ', 'XB', 'VF', 'OM')"
   ]
  },
  {
   "cell_type": "markdown",
   "metadata": {},
   "source": [
    "## Making the machine\n",
    "\n",
    "Finally in this cell we compile everything into one Machine object to recreate an engima machine. For this example one I created one that uses rotors I - III, uses the UKW-B reflector, and plugboard1. And another machine with rotors V, III, and IV, along with UKW-C and plugboard9."
   ]
  },
  {
   "cell_type": "code",
   "execution_count": 3,
   "metadata": {},
   "outputs": [],
   "source": [
    "from my_module.classes import Machine\n",
    "\n",
    "enigma1 = Machine((rotorI, rotorII, rotorIII), ukwb, plugboard1)\n",
    "enigma2 = Machine((rotorV, rotorIII, rotorIV), ukwc, plugboard9)"
   ]
  },
  {
   "cell_type": "markdown",
   "metadata": {},
   "source": [
    "Then I will encode and decode a message using the same starting point on the machine. The original machine did everything in one case so I will just be using uppercase because it looks cooler. It also could not do punctuation or numbers. I have included an additional command at the bottom of the print functions that will spit out all the info about that machine.\n",
    "\n",
    "Note: Spaces do not have any effect in this so encoding \"HELLO FRIEND\" will have the same output as encoding \"HELLOFRIEND\"\n",
    "\n",
    "2nd Note: Because of the way the rotors in the original machine were placed, the very first number in the start position tuple (the very left one) would correspond to the start position of the very right rotor on the real enigma machine (because the rotors were lined up right to left)"
   ]
  },
  {
   "cell_type": "code",
   "execution_count": 10,
   "metadata": {},
   "outputs": [
    {
     "name": "stdout",
     "output_type": "stream",
     "text": [
      "BRRGJ EANQ EY P YWGD KCOVHCZ\n",
      "HELLO THIS IS A TEST MESSAGE\n",
      "\n",
      "QRYUTW ZDOOMVK\n",
      "RANDOM MESSAGE\n",
      "\n",
      "First rotor is I\n",
      "Second rotor is II\n",
      "Third rotor is III\n",
      "Reflector is UKW-B\n",
      "Plugboard connections are:\n",
      "{'C': 'M', 'K': 'O', 'G': 'Z', 'F': 'S', 'B': 'D', 'A': 'E', 'V': 'X', 'L': 'I', 'R': 'J', 'U': 'N'}\n"
     ]
    }
   ],
   "source": [
    "coded_msg = enigma1.code('hello this is a test message', start_pos = (16, 3, 24))\n",
    "start_msg = enigma1.code(coded_msg, start_pos = (16, 3, 24))\n",
    "\n",
    "coded_msg2 = enigma2.code('random message', start_pos = (4, 10, 25))\n",
    "start_msg2 = enigma2.code(coded_msg2, start_pos = (4, 10, 25))\n",
    "\n",
    "print(coded_msg)\n",
    "print(start_msg)\n",
    "print()\n",
    "print(coded_msg2)\n",
    "print(start_msg2)\n",
    "print()\n",
    "print(enigma1.info)\n"
   ]
  },
  {
   "cell_type": "markdown",
   "metadata": {},
   "source": [
    "## Final Notes\n",
    "Although I think I got the basic idea of the machine down, this is nowhere near a perfect replica. Some later machines used 4 rotors and even a rotating reflector which I was not able to make. Also, the Enigma I machines (what I tried to make here) had a quirk called a double step where when the second rotor moved, on the rare occasion that it lined up so that the third rotor could move, it (the second rotor) would actually move twice when it's only supposed to move once in tandem the third rotor. It's incredibly rare and hard to visualize so I decided to not try to code this in as I didn't feel that it was possible since I don't have an enigma machine to reference, nor have I ever seen one in person either."
   ]
  },
  {
   "cell_type": "code",
   "execution_count": 11,
   "metadata": {},
   "outputs": [
    {
     "name": "stdout",
     "output_type": "stream",
     "text": [
      "\u001b[1m============================= test session starts ==============================\u001b[0m\n",
      "platform linux -- Python 3.9.5, pytest-6.2.5, py-1.10.0, pluggy-1.0.0\n",
      "rootdir: /home/zymiller/FinalProject_COGS18_WI22\n",
      "plugins: anyio-3.2.1\n",
      "collected 6 items                                                              \u001b[0m\u001b[1m\n",
      "\n",
      "my_module/test_functions.py \u001b[32m.\u001b[0m\u001b[32m.\u001b[0m\u001b[32m.\u001b[0m\u001b[32m.\u001b[0m\u001b[32m.\u001b[0m\u001b[32m.\u001b[0m\u001b[32m                                       [100%]\u001b[0m\n",
      "\n",
      "\u001b[32m============================== \u001b[32m\u001b[1m6 passed\u001b[0m\u001b[32m in 0.60s\u001b[0m\u001b[32m ===============================\u001b[0m\n"
     ]
    }
   ],
   "source": [
    "# Test it out\n",
    "!pytest my_module/test_functions.py"
   ]
  },
  {
   "cell_type": "markdown",
   "metadata": {},
   "source": [
    "#### Extra Credit (*optional*)\n",
    "\n",
    "Replace all of this text with a brief explanation (~3 sentences) of: \n",
    "1. I have no python experience whatsoever but I do have experience with Java as I had to learn it for my AP Comp Sci class. I have some experience with C as I learned some of it over summer break but that was about 2 years ago so I've forgotten most of it. Python wise though I have never even coded anything remotely close to it prior to this class.\n",
    "\n",
    "2. I think my project went above and beyong the requirements because of some of the complexity to build some parts. I also challenged myself to learn numpy arrays more as they seemed really useful and they actually turned out to really save this project when I was stuck on how to store the damn code for the rotors. I also wanted to delve deeper into classes and I think I did well on that, even learning class inheritance on python."
   ]
  }
 ],
 "metadata": {
  "kernelspec": {
   "display_name": "Python 3 (ipykernel)",
   "language": "python",
   "name": "python3"
  },
  "language_info": {
   "codemirror_mode": {
    "name": "ipython",
    "version": 3
   },
   "file_extension": ".py",
   "mimetype": "text/x-python",
   "name": "python",
   "nbconvert_exporter": "python",
   "pygments_lexer": "ipython3",
   "version": "3.9.5"
  }
 },
 "nbformat": 4,
 "nbformat_minor": 2
}
